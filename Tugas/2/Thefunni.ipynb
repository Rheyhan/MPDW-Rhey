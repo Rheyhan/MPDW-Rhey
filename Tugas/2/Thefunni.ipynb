{
 "cells": [
  {
   "cell_type": "code",
   "execution_count": 2,
   "metadata": {},
   "outputs": [],
   "source": [
    "#Modules\n",
    "import category_encoders as ce\n",
    "import pandas as pd\n",
    "import numpy as np"
   ]
  },
  {
   "cell_type": "code",
   "execution_count": 78,
   "metadata": {},
   "outputs": [
    {
     "data": {
      "text/html": [
       "<div>\n",
       "<style scoped>\n",
       "    .dataframe tbody tr th:only-of-type {\n",
       "        vertical-align: middle;\n",
       "    }\n",
       "\n",
       "    .dataframe tbody tr th {\n",
       "        vertical-align: top;\n",
       "    }\n",
       "\n",
       "    .dataframe thead th {\n",
       "        text-align: right;\n",
       "    }\n",
       "</style>\n",
       "<table border=\"1\" class=\"dataframe\">\n",
       "  <thead>\n",
       "    <tr style=\"text-align: right;\">\n",
       "      <th></th>\n",
       "      <th>Year</th>\n",
       "      <th>Country</th>\n",
       "      <th>Total</th>\n",
       "      <th>Solid Fuel</th>\n",
       "      <th>Liquid Fuel</th>\n",
       "      <th>Gas Fuel</th>\n",
       "      <th>Cement</th>\n",
       "      <th>Gas Flaring</th>\n",
       "      <th>Per Capita</th>\n",
       "      <th>Bunker fuels (Not in Total)</th>\n",
       "    </tr>\n",
       "  </thead>\n",
       "  <tbody>\n",
       "    <tr>\n",
       "      <th>0</th>\n",
       "      <td>1751</td>\n",
       "      <td>UNITED KINGDOM</td>\n",
       "      <td>2552</td>\n",
       "      <td>2552</td>\n",
       "      <td>0</td>\n",
       "      <td>0</td>\n",
       "      <td>0</td>\n",
       "      <td>0</td>\n",
       "      <td>0.0</td>\n",
       "      <td>0</td>\n",
       "    </tr>\n",
       "    <tr>\n",
       "      <th>1</th>\n",
       "      <td>1752</td>\n",
       "      <td>UNITED KINGDOM</td>\n",
       "      <td>2553</td>\n",
       "      <td>2553</td>\n",
       "      <td>0</td>\n",
       "      <td>0</td>\n",
       "      <td>0</td>\n",
       "      <td>0</td>\n",
       "      <td>0.0</td>\n",
       "      <td>0</td>\n",
       "    </tr>\n",
       "    <tr>\n",
       "      <th>2</th>\n",
       "      <td>1753</td>\n",
       "      <td>UNITED KINGDOM</td>\n",
       "      <td>2553</td>\n",
       "      <td>2553</td>\n",
       "      <td>0</td>\n",
       "      <td>0</td>\n",
       "      <td>0</td>\n",
       "      <td>0</td>\n",
       "      <td>0.0</td>\n",
       "      <td>0</td>\n",
       "    </tr>\n",
       "    <tr>\n",
       "      <th>3</th>\n",
       "      <td>1754</td>\n",
       "      <td>UNITED KINGDOM</td>\n",
       "      <td>2554</td>\n",
       "      <td>2554</td>\n",
       "      <td>0</td>\n",
       "      <td>0</td>\n",
       "      <td>0</td>\n",
       "      <td>0</td>\n",
       "      <td>0.0</td>\n",
       "      <td>0</td>\n",
       "    </tr>\n",
       "    <tr>\n",
       "      <th>4</th>\n",
       "      <td>1755</td>\n",
       "      <td>UNITED KINGDOM</td>\n",
       "      <td>2555</td>\n",
       "      <td>2555</td>\n",
       "      <td>0</td>\n",
       "      <td>0</td>\n",
       "      <td>0</td>\n",
       "      <td>0</td>\n",
       "      <td>0.0</td>\n",
       "      <td>0</td>\n",
       "    </tr>\n",
       "  </tbody>\n",
       "</table>\n",
       "</div>"
      ],
      "text/plain": [
       "   Year         Country  Total  Solid Fuel  Liquid Fuel  Gas Fuel  Cement  \\\n",
       "0  1751  UNITED KINGDOM   2552        2552            0         0       0   \n",
       "1  1752  UNITED KINGDOM   2553        2553            0         0       0   \n",
       "2  1753  UNITED KINGDOM   2553        2553            0         0       0   \n",
       "3  1754  UNITED KINGDOM   2554        2554            0         0       0   \n",
       "4  1755  UNITED KINGDOM   2555        2555            0         0       0   \n",
       "\n",
       "   Gas Flaring  Per Capita  Bunker fuels (Not in Total)  \n",
       "0            0         0.0                            0  \n",
       "1            0         0.0                            0  \n",
       "2            0         0.0                            0  \n",
       "3            0         0.0                            0  \n",
       "4            0         0.0                            0  "
      ]
     },
     "execution_count": 78,
     "metadata": {},
     "output_type": "execute_result"
    }
   ],
   "source": [
    "raw_data=pd.read_csv(\"Datasets/Rev/fossil-fuel-co2-emissions-by-nation.csv\", header=0)\n",
    "raw_data.head()"
   ]
  },
  {
   "cell_type": "code",
   "execution_count": 79,
   "metadata": {},
   "outputs": [],
   "source": [
    "#We'll just use 1814-2014 i think and only use year, total, and solid fuel for its columns/\n",
    "np.unique(raw_data[\"Year\"])\n",
    "\n",
    "year=[]; total=[]; solidfuel=[]\n",
    "for i in range(1814, 2015):\n",
    "    year.append(i)\n",
    "    total.append(np.average(raw_data[raw_data[\"Year\"]==i][\"Total\"].values))\n",
    "    solidfuel.append(np.average(raw_data[raw_data[\"Year\"]==i][\"Solid Fuel\"].values))"
   ]
  },
  {
   "cell_type": "code",
   "execution_count": 81,
   "metadata": {},
   "outputs": [],
   "source": [
    "pd.DataFrame.to_csv(pd.DataFrame(zip(year, total, solidfuel), columns=[\"year\", \"total\", \"solidfuel\"]), \"Datasets/Rev/Cleaned.csv\")"
   ]
  }
 ],
 "metadata": {
  "kernelspec": {
   "display_name": "Python 3",
   "language": "python",
   "name": "python3"
  },
  "language_info": {
   "codemirror_mode": {
    "name": "ipython",
    "version": 3
   },
   "file_extension": ".py",
   "mimetype": "text/x-python",
   "name": "python",
   "nbconvert_exporter": "python",
   "pygments_lexer": "ipython3",
   "version": "3.11.4"
  },
  "orig_nbformat": 4
 },
 "nbformat": 4,
 "nbformat_minor": 2
}
